{
 "cells": [
  {
   "cell_type": "markdown",
   "id": "c78bf3cd",
   "metadata": {},
   "source": [
    "# Profiling and discussion"
   ]
  },
  {
   "cell_type": "markdown",
   "id": "0a4e2cd6",
   "metadata": {},
   "source": [
    "## Lorenz 96"
   ]
  },
  {
   "cell_type": "code",
   "execution_count": 81,
   "id": "b7cc7f63",
   "metadata": {},
   "outputs": [],
   "source": [
    "# Add profiling code here\n",
    "import numpy as np\n",
    "\n",
    "def lorenz96(initial_state, nsteps, constants=(1/101, 100, 8)):\n",
    "    \"\"\"\n",
    "    Perform iterations of the Lorenz 96 update.\n",
    "\n",
    "    Parameters\n",
    "    ----------\n",
    "    initial_state : array_like or list\n",
    "        Initial state of lattice in an array of floats.\n",
    "    nsteps : int\n",
    "        Number of steps of Lorenz 96 to perform.\n",
    "\n",
    "    Returns\n",
    "    -------\n",
    "    numpy.ndarray\n",
    "        Final state of lattice in an array of floats\n",
    "    \"\"\"\n",
    "\n",
    "    alpha, beta, gamma = constants\n",
    "    state = np.array(initial_state, dtype=float)\n",
    "    N = len(state)\n",
    "    new_state = np.empty_like(state)  # Create a new state array\n",
    "\n",
    "    for _ in range(nsteps):\n",
    "        # Compute the first two elements\n",
    "        new_state[0] = alpha * (beta * state[0] + (state[N - 2] - state[1]) * state[N - 1] + gamma)\n",
    "        new_state[1] = alpha * (beta * state[1] + (state[N - 1] - state[0]) * state[0] + gamma)\n",
    "\n",
    "        # Compute the elements between 2 and N-2\n",
    "        new_state[2:N - 2] = alpha * (beta * state[2:N - 2] + (state[0:N - 4] - state[3:N - 1]) * state[1:N - 3] + gamma)   \n",
    "\n",
    "        # Compute the last element\n",
    "        new_state[N - 1] = alpha * (beta * state[N - 1] + (state[N - 3] - state[0]) * state[N - 2] + gamma)\n",
    "\n",
    "        # Update the state array\n",
    "        state[:] = new_state\n",
    "\n",
    "    return state\n",
    "\n",
    "\n",
    "initial_state = np.full(49, 8.0)\n",
    "initial_state = np.insert(initial_state,2,9.0)\n",
    "nsteps = 50"
   ]
  },
  {
   "cell_type": "code",
   "execution_count": 82,
   "id": "772a4c14",
   "metadata": {},
   "outputs": [
    {
     "name": "stderr",
     "output_type": "stream",
     "text": [
      "/var/folders/g1/_5ywfh994dvfccvkj4cn_wy00000gp/T/ipykernel_24384/258648170.py:32: RuntimeWarning: overflow encountered in multiply\n",
      "  new_state[2:N - 2] = alpha * (beta * state[2:N - 2] + (state[0:N - 4] - state[3:N - 1]) * state[1:N - 3] + gamma)\n",
      "/var/folders/g1/_5ywfh994dvfccvkj4cn_wy00000gp/T/ipykernel_24384/258648170.py:32: RuntimeWarning: invalid value encountered in subtract\n",
      "  new_state[2:N - 2] = alpha * (beta * state[2:N - 2] + (state[0:N - 4] - state[3:N - 1]) * state[1:N - 3] + gamma)\n",
      "/var/folders/g1/_5ywfh994dvfccvkj4cn_wy00000gp/T/ipykernel_24384/258648170.py:32: RuntimeWarning: invalid value encountered in add\n",
      "  new_state[2:N - 2] = alpha * (beta * state[2:N - 2] + (state[0:N - 4] - state[3:N - 1]) * state[1:N - 3] + gamma)\n"
     ]
    },
    {
     "name": "stdout",
     "output_type": "stream",
     "text": [
      "241 µs ± 11.5 µs per loop (mean ± std. dev. of 7 runs, 1,000 loops each)\n"
     ]
    }
   ],
   "source": [
    "%timeit lorenz96(initial_state, nsteps)"
   ]
  },
  {
   "cell_type": "markdown",
   "id": "648182ca",
   "metadata": {},
   "source": [
    "#### Add discussion here\n",
    "\n",
    "### First Version\n",
    "By interacting with chatgpt I realised that explcitly stating the data type allows numpy to optimise operations pertaining to the specific data. After this i used the timeit to profile my code and got a speed of 166 microseconds.\n",
    "### Second Version\n",
    "Intead of using nested loops i decided to use numpys abilties to \"vectorize\" the function in order to optimise.After vecotrising i found that the code ran slower for smaller steps(20) but faster than my first version for larger steps(50)\n",
    "### Third Version\n",
    "After consulting chatgpt it seems the action of change a new array is inneficient due to memory allocation and deallocation. This didnt seem to make the program as efficient.\n",
    "### Fourth Version\n",
    "Now that ive applied numpys capabilities where i can to optimise. I decided to try an optimise the actual algorithm. Instead of using one algorithm for every part of the array the calculation was split to the first, second, last and all the arrays in between. This allowed a much faster vecotrisation process.\n",
    "\n",
    "Compared to my original code I have managed to optimise my code to go from 1.03 milliseconds to 228 microseconds for the same array.. I have changed the algorithm and used vectorisation where i could to make it more efficient.\n",
    "\n",
    "\n",
    "#### Testing\n",
    "When creating the tests for this function I used the assignment pdf to give me my basic test cases. I then used a different set of constants to calculate by hand and assert the correct output array"
   ]
  },
  {
   "cell_type": "markdown",
   "id": "f06efd25",
   "metadata": {},
   "source": [
    "## Game of Life"
   ]
  },
  {
   "cell_type": "code",
   "execution_count": 87,
   "id": "34853ed2",
   "metadata": {},
   "outputs": [],
   "source": [
    "import numpy as np\n",
    "\n",
    "#version 2\n",
    "def life(initial_state, nsteps, rules=\"basic\", periodic=False):\n",
    "    \"\"\"\n",
    "    Perform iterations of Conway’s Game of Life.\n",
    "    Parameters\n",
    "    ----------\n",
    "    initial_state : array_like or list of lists\n",
    "        Initial 2d state of grid in an array of ints.\n",
    "    nsteps : int\n",
    "        Number of steps of Life to perform.\n",
    "    rules : str\n",
    "        Choose a set of rules from \"basic\", \"2colour\" or \"3d\".\n",
    "    periodic : bool\n",
    "        If True, use periodic boundary conditions.\n",
    "    Returns\n",
    "    -------\n",
    "    numpy.ndarray\n",
    "         Final state of grid in array of ints.\n",
    "    \"\"\"\n",
    "\n",
    "    # write your code here to replace return statement\n",
    "    state = np.array(initial_state, dtype=int)\n",
    "\n",
    "    # Determine if we're working in 2D or 3D\n",
    "    if rules == \"3d\":\n",
    "        if state.ndim != 3:\n",
    "            raise ValueError(\"Invalid grid dimension!\")\n",
    "        rows, cols, depth = state.shape\n",
    "        for _ in range(nsteps):\n",
    "            next_state = state.copy()\n",
    "            \n",
    "            for i in range(rows):\n",
    "                for j in range(cols):\n",
    "                    for k in range(depth):\n",
    "                        total = 0  # Count the neighbors\n",
    "\n",
    "                        for x in [-1, 0, 1]:\n",
    "                            for y in [-1, 0, 1]:\n",
    "                                for z in [-1, 0, 1]:\n",
    "                                    if x == 0 and y == 0 and z == 0:\n",
    "                                        continue  # Skip the current cell\n",
    "                                    ni, nj, nk = i + x, j + y, k + z\n",
    "                                    if periodic:  # Handle periodic boundary conditions\n",
    "                                        ni %= rows\n",
    "                                        nj %= cols\n",
    "                                        nk %= depth\n",
    "                                    elif ni < 0 or ni >= rows or nj < 0 or nj >= cols or nk < 0 or nk >= depth:\n",
    "                                        continue  # Skip out of bounds\n",
    "\n",
    "                                    total += state[ni, nj, nk]\n",
    "                                    \n",
    "                            if state[i, j, k] != 0:  # If cell is alive\n",
    "                                if total < 5 or total > 6:  # Die\n",
    "                                    next_state[i, j, k] = 0\n",
    "                            else:  # Dead cell\n",
    "                                if total == 4:\n",
    "                                    next_state[i, j, k] = 1  # Birth\n",
    "            \n",
    "            state = next_state\n",
    "        return state\n",
    "    else:\n",
    "        if state.ndim != 2:\n",
    "            raise ValueError(\"Invalid grid dimension!\")\n",
    "        rows, cols = state.shape\n",
    "        for _ in range(nsteps):\n",
    "            next_state = state.copy()\n",
    "\n",
    "            for i in range(rows):\n",
    "                for j in range(cols):\n",
    "                    total = 0\n",
    "                    blue_neighbours = 0\n",
    "                    red_neighbours = 0\n",
    "                    for x in [-1, 0, 1]:\n",
    "                        for y in [-1, 0, 1]:\n",
    "                            if x == 0 and y == 0:\n",
    "                                continue\n",
    "                            ni, nj = i + x, j + y\n",
    "                            if periodic:\n",
    "                                ni %= rows\n",
    "                                nj %= cols\n",
    "                            elif ni < 0 or ni >= rows or nj < 0 or nj >= cols:\n",
    "                                continue\n",
    "\n",
    "                            if state[ni][nj] > 0:\n",
    "                                total += 1\n",
    "                                if state[ni][nj] == 1:\n",
    "                                    blue_neighbours += 1\n",
    "                                else:\n",
    "                                    red_neighbours += 1\n",
    "\n",
    "                    if rules == \"basic\":\n",
    "                        if state[i][j] == 1:  # If cell is alive\n",
    "                            if total < 2 or total > 3:  # Die\n",
    "                                next_state[i][j] = 0\n",
    "                        else:  # Dead cell\n",
    "                            if total == 3:\n",
    "                                next_state[i][j] = 1\n",
    "\n",
    "                    elif rules == \"2colour\":\n",
    "                        if state[i][j] == 1 or state[i][j] == 2:  # If cell is alive\n",
    "                            if total < 2 or total > 3:  # Die\n",
    "                                next_state[i][j] = 0\n",
    "                        else:  # Dead cell\n",
    "                            if total == 3:\n",
    "                                if blue_neighbours > red_neighbours:\n",
    "                                    next_state[i][j] = 1\n",
    "                                else:\n",
    "                                    next_state[i][j] = 2\n",
    "\n",
    "            state = next_state\n",
    "\n",
    "        return state\n",
    "    \n",
    "    \n",
    "initial_state = ([0,0,0,0,0],\n",
    "                 [0,0,0,0,0],\n",
    "                 [0,1,1,1,0],\n",
    "                 [0,0,0,0,0],\n",
    "                 [0,0,0,0,0])"
   ]
  },
  {
   "cell_type": "code",
   "execution_count": 89,
   "id": "eb7d403d",
   "metadata": {},
   "outputs": [
    {
     "name": "stdout",
     "output_type": "stream",
     "text": [
      "1.85 ms ± 3.85 µs per loop (mean ± std. dev. of 7 runs, 100 loops each)\n"
     ]
    }
   ],
   "source": [
    "%timeit life(initial_state, 50,rules = \"basic\",periodic=False)"
   ]
  },
  {
   "cell_type": "markdown",
   "id": "08bab13c",
   "metadata": {},
   "source": [
    "## Initial Code Issues:\n",
    "The first iteration of the code i recieved from chatgpt was riddled with bugs and missing logic such as code for seperate colour in the \"2d colour\" extension.\n",
    "\n",
    "## Code Skeleton Development:\n",
    "I developed a skeleton to validate array inputs for specified extensions, extracting rows, columns, and optionally, depth. The primary focus was on the 2D code version.\n",
    "\n",
    "## Unified Function Approach:\n",
    "Despite separate functions from ChatGPT, I centralized all code into one function, reducing overhead from function calls but sacrificing readability. This was aimed at obtaining a lower duration from the timeit function, even as other standard code refinements were applied to enhance and rectify the code.\n",
    "\n",
    "## Optimization Steps:\n",
    "With working code validated by tests, several optimization approaches were pursued:\n",
    "\n",
    "- **Simplifying Conditionals:** Minimize computational complexity by simplifying conditionals and logical paths.\n",
    "- **Periodic Boundary Management:** Utilize modular arithmetic to manage periodic boundary conditions and decrease the use of conditionals.\n",
    "- **Utilizing Numpy:** Implement Numpy for array operations, leveraging its superior computational efficiency over Python loops.\n",
    "\n",
    "## Indexing Issue:\n",
    "A perplexing issue arose when faster array indexing surprisingly resulted in increased runtime. Despite the test cases running correctly, the cause remains undetermined and unresolved by GPT."
   ]
  }
 ],
 "metadata": {
  "kernelspec": {
   "display_name": "Python 3 (ipykernel)",
   "language": "python",
   "name": "python3"
  },
  "language_info": {
   "codemirror_mode": {
    "name": "ipython",
    "version": 3
   },
   "file_extension": ".py",
   "mimetype": "text/x-python",
   "name": "python",
   "nbconvert_exporter": "python",
   "pygments_lexer": "ipython3",
   "version": "3.11.5"
  }
 },
 "nbformat": 4,
 "nbformat_minor": 5
}
