{
 "cells": [
  {
   "cell_type": "markdown",
   "id": "c78bf3cd",
   "metadata": {},
   "source": [
    "# Profiling and discussion"
   ]
  },
  {
   "cell_type": "markdown",
   "id": "91fd9f7c",
   "metadata": {},
   "source": [
    "## Lorenz 96"
   ]
  },
  {
   "cell_type": "markdown",
   "id": "d69887d2",
   "metadata": {},
   "source": [
    "### Version Histories and Learnings\n",
    "\n",
    "#### First Version: Understanding Data Types and Profiling\n",
    "- **Initial Approach**: Started with a basic implementation, focusing on getting the logic correct.\n",
    "- **Key Learning**: Realized the importance of specifying data types for optimization in NumPy.\n",
    "- **Performance**: Profiling with `timeit` showed a runtime of 1.03 milliseconds for a certain array size.\n",
    "\n",
    "#### Second Version: Embracing Vectorization\n",
    "- **Optimization Attempt**: Replaced nested loops with NumPy's vectorization capabilities.\n",
    "- **Trade-off**: Noticed slower performance for smaller step sizes but gains in larger simulations.\n",
    "- **Performance**: Runtime improved to 228 microseconds for larger steps.\n",
    "\n",
    "#### Third Version: Memory Efficiency\n",
    "- **Consultation Insights**: ChatGPT suggested improvements in memory management.\n",
    "- **Change Implemented**: Avoided unnecessary array creation for each iteration.\n",
    "- **Result**: The performance did not improve as expected, indicating a need for further refinement.\n",
    "\n",
    "#### Fourth Version: Strategic Vectorization\n",
    "- **Algorithmic Adjustment**: Divided the computation into sections to optimize the vectorization process.\n",
    "- **Outcome**: Achieved significant speed improvements without compromising the model's integrity.\n",
    "- **Performance**: Solidified the gains, maintaining a runtime of 228 microseconds.\n",
    "\n",
    "### Post-Assignment Enhancements\n",
    "\n",
    "#### Continued Learning and Application\n",
    "- **Advanced Techniques**: After the assignment, I delved into more advanced NumPy features to improve performance further.\n",
    "- **Code Quality**: Refactored the code for better readability and maintainability, aligning with Python's best practices.\n",
    "\n",
    "#### Algorithmic Refinements\n",
    "- **Boundary Conditions**: Investigated more efficient methods for handling periodic boundary conditions.\n",
    "- **Pseudocode/Diagrams**: [Include pseudocode or diagrams of any new algorithmic approaches here.]\n",
    "\n",
    "#### Emphasizing Code Quality\n",
    "- **Refactoring**: Modularized the code for better clarity and reuse.\n",
    "- **Commenting**: Enhanced comments and documentation for future users and contributors.\n",
    "\n",
    "During the assigment I was not able to specify which array sizes I specifically tested for but now I will test the function at the time of assigment with my improved one post assignment for a small array and a larger one."
   ]
  },
  {
   "cell_type": "markdown",
   "id": "a74982ca",
   "metadata": {},
   "source": [
    "Old version of function:"
   ]
  },
  {
   "cell_type": "code",
   "execution_count": 1,
   "id": "b7cc7f63",
   "metadata": {},
   "outputs": [],
   "source": [
    "# Add profiling code here\n",
    "import numpy as np\n",
    "\n",
    "\n",
    "def lorenz96_old(initial_state, nsteps, constants=(1 / 101, 100, 8)):\n",
    "    \"\"\"\n",
    "    Perform iterations of the Lorenz 96 update.\n",
    "\n",
    "    Parameters\n",
    "    ----------\n",
    "    initial_state : array_like or list\n",
    "        Initial state of lattice in an array of floats.\n",
    "    nsteps : int\n",
    "        Number of steps of Lorenz 96 to perform.\n",
    "\n",
    "    Returns\n",
    "    -------\n",
    "    numpy.ndarray\n",
    "        Final state of lattice in an array of floats\n",
    "    \"\"\"\n",
    "\n",
    "    alpha, beta, gamma = constants\n",
    "    state = np.array(initial_state, dtype=float)\n",
    "    N = len(state)\n",
    "    new_state = np.empty_like(state)  # Create a new state array\n",
    "\n",
    "    for _ in range(nsteps):\n",
    "        new_state[0] = alpha * (\n",
    "            (beta * state[0]) + (state[N - 2] - state[1]) * state[N - 1] + gamma\n",
    "        )\n",
    "\n",
    "        # Compute the second element\n",
    "        new_state[1] = alpha * (\n",
    "            beta * state[1] + (state[0] - state[2]) * state[N - 1] + gamma\n",
    "        )\n",
    "        \n",
    "        # Compute the elements between 2 and N-2\n",
    "        new_state[2:N - 1] = alpha * (\n",
    "            beta * state[2:N - 1] +\n",
    "            (state[0:N - 3] - state[3:N]) * state[1:N - 2] +\n",
    "            gamma\n",
    "        )\n",
    "\n",
    "        # Compute the last element\n",
    "        new_state[N - 1] = alpha * (\n",
    "            beta * state[N - 1] + (state[N - 3] - state[0]) * state[N - 2] + gamma\n",
    "        )\n",
    "\n",
    "        # Update the state array\n",
    "        state[:] = new_state\n",
    "\n",
    "\n",
    "    return state"
   ]
  },
  {
   "cell_type": "code",
   "execution_count": 2,
   "id": "d9539f80",
   "metadata": {},
   "outputs": [],
   "source": [
    "initial_state = np.full(49, 8.0) # Create an array of 49 8.0s\n",
    "initial_state = np.insert(initial_state, 2, 9.0) # Insert a 9.0 at index 2\n",
    "nsteps = 50 # Number of steps to perform"
   ]
  },
  {
   "cell_type": "code",
   "execution_count": 3,
   "id": "4877d7cf",
   "metadata": {},
   "outputs": [
    {
     "name": "stdout",
     "output_type": "stream",
     "text": [
      "710 µs ± 9.85 µs per loop (mean ± std. dev. of 7 runs, 1,000 loops each)\n"
     ]
    }
   ],
   "source": [
    "from automata import lorenz96\n",
    "timeit_result = %timeit lorenz96(initial_state, nsteps)"
   ]
  },
  {
   "cell_type": "code",
   "execution_count": 4,
   "id": "bb437bec",
   "metadata": {},
   "outputs": [
    {
     "name": "stdout",
     "output_type": "stream",
     "text": [
      "234 µs ± 3.51 µs per loop (mean ± std. dev. of 7 runs, 1,000 loops each)\n"
     ]
    }
   ],
   "source": [
    "%timeit lorenz96_old(initial_state, nsteps)"
   ]
  },
  {
   "cell_type": "code",
   "execution_count": 11,
   "id": "d1bde762",
   "metadata": {},
   "outputs": [],
   "source": [
    "initial_state = np.full(9, 8.0) # Create an array of 49 8.0s\n",
    "initial_state = np.insert(initial_state, 2, 9.0) # Insert a 9.0 at index 2\n",
    "nsteps = 1 # Number of steps to perform"
   ]
  },
  {
   "cell_type": "code",
   "execution_count": 12,
   "id": "578b0c57",
   "metadata": {},
   "outputs": [
    {
     "name": "stdout",
     "output_type": "stream",
     "text": [
      "[7.92079208 8.         8.99009901 8.07920792 8.         8.\n",
      " 8.         8.         8.         8.        ]\n",
      "\n",
      "[8.         7.92079208 8.99009901 8.         8.07920792 8.\n",
      " 8.         8.         8.         8.        ]\n"
     ]
    }
   ],
   "source": [
    "print(lorenz96(initial_state, nsteps))\n",
    "print()\n",
    "print(lorenz96_old(initial_state, nsteps))"
   ]
  },
  {
   "cell_type": "code",
   "execution_count": 15,
   "id": "772a4c14",
   "metadata": {},
   "outputs": [
    {
     "name": "stdout",
     "output_type": "stream",
     "text": [
      "         3290 function calls (2690 primitive calls) in 0.003 seconds\n",
      "\n",
      "   Ordered by: internal time\n",
      "\n",
      "   ncalls  tottime  percall  cumtime  percall filename:lineno(function)\n",
      "  300/150    0.001    0.000    0.002    0.000 numeric.py:1147(roll)\n",
      "      101    0.000    0.000    0.000    0.000 {built-in method numpy.array}\n",
      "        1    0.000    0.000    0.003    0.003 automata.py:8(lorenz96)\n",
      "  450/150    0.000    0.000    0.002    0.000 {built-in method numpy.core._multiarray_umath.implement_array_function}\n",
      "  300/150    0.000    0.000    0.002    0.000 <__array_function__ internals>:177(roll)\n",
      "      150    0.000    0.000    0.000    0.000 numeric.py:1348(normalize_axis_tuple)\n",
      "      150    0.000    0.000    0.000    0.000 <__array_function__ internals>:177(empty_like)\n",
      "        2    0.000    0.000    0.000    0.000 {built-in method builtins.compile}\n",
      "      150    0.000    0.000    0.000    0.000 numeric.py:1398(<listcomp>)\n",
      "      150    0.000    0.000    0.000    0.000 {method 'reshape' of 'numpy.ndarray' objects}\n",
      "      150    0.000    0.000    0.000    0.000 numeric.py:1234(<dictcomp>)\n",
      "      300    0.000    0.000    0.000    0.000 numeric.py:1143(_roll_dispatcher)\n",
      "      150    0.000    0.000    0.000    0.000 {method 'ravel' of 'numpy.ndarray' objects}\n",
      "      300    0.000    0.000    0.000    0.000 {built-in method numpy.asanyarray}\n",
      "      150    0.000    0.000    0.000    0.000 {built-in method numpy.core._multiarray_umath.normalize_axis_index}\n",
      "      150    0.000    0.000    0.000    0.000 multiarray.py:84(empty_like)\n",
      "      150    0.000    0.000    0.000    0.000 {built-in method _operator.index}\n",
      "      150    0.000    0.000    0.000    0.000 {method 'items' of 'dict' objects}\n",
      "        2    0.000    0.000    0.000    0.000 codeop.py:117(__call__)\n",
      "        2    0.000    0.000    0.003    0.001 interactiveshell.py:3490(run_code)\n",
      "        2    0.000    0.000    0.000    0.000 contextlib.py:104(__init__)\n",
      "        2    0.000    0.000    0.003    0.001 {built-in method builtins.exec}\n",
      "        4    0.000    0.000    0.000    0.000 compilerop.py:180(extra_flags)\n",
      "        2    0.000    0.000    0.000    0.000 contextlib.py:141(__exit__)\n",
      "        2    0.000    0.000    0.000    0.000 contextlib.py:287(helper)\n",
      "        2    0.000    0.000    0.000    0.000 traitlets.py:651(get)\n",
      "        2    0.000    0.000    0.000    0.000 contextlib.py:132(__enter__)\n",
      "        2    0.000    0.000    0.000    0.000 interactiveshell.py:3442(compare)\n",
      "        4    0.000    0.000    0.000    0.000 {built-in method builtins.next}\n",
      "        2    0.000    0.000    0.000    0.000 traitlets.py:689(__get__)\n",
      "        1    0.000    0.000    0.003    0.003 455716162.py:1(<module>)\n",
      "        2    0.000    0.000    0.000    0.000 interactiveshell.py:1231(user_global_ns)\n",
      "        4    0.000    0.000    0.000    0.000 {built-in method builtins.getattr}\n",
      "        1    0.000    0.000    0.000    0.000 {method 'disable' of '_lsprof.Profiler' objects}\n",
      "\n",
      "\n"
     ]
    }
   ],
   "source": [
    "# Add profiling code here\n",
    "import cProfile\n",
    "\n",
    "\n",
    "pr = cProfile.Profile()\n",
    "pr.enable()\n",
    "lorenz96(initial_state, nsteps)\n",
    "pr.disable()\n",
    "\n",
    "pr.print_stats(sort='time')"
   ]
  },
  {
   "cell_type": "markdown",
   "id": "d967e20e",
   "metadata": {},
   "source": [
    "This was a test with a small array so the effects of vectorisation is not apparent. Lets try with a bigger array:"
   ]
  },
  {
   "cell_type": "code",
   "execution_count": 9,
   "id": "53cbdf18",
   "metadata": {},
   "outputs": [],
   "source": [
    "# Example of larger initial state and more steps\n",
    "initial_state = np.full(999, 8.0)  # A larger array\n",
    "initial_state = np.insert(initial_state, 2, 9.0)  # Insert a 9.0 at index 2\n",
    "nsteps = 50  # More steps"
   ]
  },
  {
   "cell_type": "code",
   "execution_count": 10,
   "id": "4c620afe",
   "metadata": {},
   "outputs": [
    {
     "name": "stdout",
     "output_type": "stream",
     "text": [
      "818 µs ± 3.68 µs per loop (mean ± std. dev. of 7 runs, 1,000 loops each)\n"
     ]
    }
   ],
   "source": [
    "%timeit lorenz96(initial_state, nsteps)"
   ]
  },
  {
   "cell_type": "code",
   "execution_count": 11,
   "id": "b77d757f",
   "metadata": {},
   "outputs": [
    {
     "name": "stdout",
     "output_type": "stream",
     "text": [
      "314 µs ± 1.82 µs per loop (mean ± std. dev. of 7 runs, 1,000 loops each)\n"
     ]
    }
   ],
   "source": [
    "%timeit lorenz96_old(initial_state, nsteps)"
   ]
  },
  {
   "cell_type": "markdown",
   "id": "f06efd25",
   "metadata": {},
   "source": [
    "## Game of Life"
   ]
  },
  {
   "cell_type": "code",
   "execution_count": 87,
   "id": "34853ed2",
   "metadata": {},
   "outputs": [],
   "source": [
    "import numpy as np\n",
    "\n",
    "\n",
    "# version 2\n",
    "def life(initial_state, nsteps, rules=\"basic\", periodic=False):\n",
    "    \"\"\"\n",
    "    Perform iterations of Conway’s Game of Life.\n",
    "    Parameters\n",
    "    ----------\n",
    "    initial_state : array_like or list of lists\n",
    "        Initial 2d state of grid in an array of ints.\n",
    "    nsteps : int\n",
    "        Number of steps of Life to perform.\n",
    "    rules : str\n",
    "        Choose a set of rules from \"basic\", \"2colour\" or \"3d\".\n",
    "    periodic : bool\n",
    "        If True, use periodic boundary conditions.\n",
    "    Returns\n",
    "    -------\n",
    "    numpy.ndarray\n",
    "         Final state of grid in array of ints.\n",
    "    \"\"\"\n",
    "\n",
    "    # write your code here to replace return statement\n",
    "    state = np.array(initial_state, dtype=int)\n",
    "\n",
    "    # Determine if we're working in 2D or 3D\n",
    "    if rules == \"3d\":\n",
    "        if state.ndim != 3:\n",
    "            raise ValueError(\"Invalid grid dimension!\")\n",
    "        rows, cols, depth = state.shape\n",
    "        for _ in range(nsteps):\n",
    "            next_state = state.copy()\n",
    "\n",
    "            for i in range(rows):\n",
    "                for j in range(cols):\n",
    "                    for k in range(depth):\n",
    "                        total = 0  # Count the neighbors\n",
    "\n",
    "                        for x in [-1, 0, 1]:\n",
    "                            for y in [-1, 0, 1]:\n",
    "                                for z in [-1, 0, 1]:\n",
    "                                    if x == 0 and y == 0 and z == 0:\n",
    "                                        continue  # Skip the current cell\n",
    "                                    ni, nj, nk = i + x, j + y, k + z\n",
    "                                    if periodic:  # Handle periodic boundary conditions\n",
    "                                        ni %= rows\n",
    "                                        nj %= cols\n",
    "                                        nk %= depth\n",
    "                                    elif (\n",
    "                                        ni < 0\n",
    "                                        or ni >= rows\n",
    "                                        or nj < 0\n",
    "                                        or nj >= cols\n",
    "                                        or nk < 0\n",
    "                                        or nk >= depth\n",
    "                                    ):\n",
    "                                        continue  # Skip out of bounds\n",
    "\n",
    "                                    total += state[ni, nj, nk]\n",
    "\n",
    "                            if state[i, j, k] != 0:  # If cell is alive\n",
    "                                if total < 5 or total > 6:  # Die\n",
    "                                    next_state[i, j, k] = 0\n",
    "                            else:  # Dead cell\n",
    "                                if total == 4:\n",
    "                                    next_state[i, j, k] = 1  # Birth\n",
    "\n",
    "            state = next_state\n",
    "        return state\n",
    "    else:\n",
    "        if state.ndim != 2:\n",
    "            raise ValueError(\"Invalid grid dimension!\")\n",
    "        rows, cols = state.shape\n",
    "        for _ in range(nsteps):\n",
    "            next_state = state.copy()\n",
    "\n",
    "            for i in range(rows):\n",
    "                for j in range(cols):\n",
    "                    total = 0\n",
    "                    blue_neighbours = 0\n",
    "                    red_neighbours = 0\n",
    "                    for x in [-1, 0, 1]:\n",
    "                        for y in [-1, 0, 1]:\n",
    "                            if x == 0 and y == 0:\n",
    "                                continue\n",
    "                            ni, nj = i + x, j + y\n",
    "                            if periodic:\n",
    "                                ni %= rows\n",
    "                                nj %= cols\n",
    "                            elif ni < 0 or ni >= rows or nj < 0 or nj >= cols:\n",
    "                                continue\n",
    "\n",
    "                            if state[ni][nj] > 0:\n",
    "                                total += 1\n",
    "                                if state[ni][nj] == 1:\n",
    "                                    blue_neighbours += 1\n",
    "                                else:\n",
    "                                    red_neighbours += 1\n",
    "\n",
    "                    if rules == \"basic\":\n",
    "                        if state[i][j] == 1:  # If cell is alive\n",
    "                            if total < 2 or total > 3:  # Die\n",
    "                                next_state[i][j] = 0\n",
    "                        else:  # Dead cell\n",
    "                            if total == 3:\n",
    "                                next_state[i][j] = 1\n",
    "\n",
    "                    elif rules == \"2colour\":\n",
    "                        if state[i][j] == 1 or state[i][j] == 2:  # If cell is alive\n",
    "                            if total < 2 or total > 3:  # Die\n",
    "                                next_state[i][j] = 0\n",
    "                        else:  # Dead cell\n",
    "                            if total == 3:\n",
    "                                if blue_neighbours > red_neighbours:\n",
    "                                    next_state[i][j] = 1\n",
    "                                else:\n",
    "                                    next_state[i][j] = 2\n",
    "\n",
    "            state = next_state\n",
    "\n",
    "        return state\n",
    "\n",
    "\n",
    "initial_state = (\n",
    "    [0, 0, 0, 0, 0],\n",
    "    [0, 0, 0, 0, 0],\n",
    "    [0, 1, 1, 1, 0],\n",
    "    [0, 0, 0, 0, 0],\n",
    "    [0, 0, 0, 0, 0],\n",
    ")"
   ]
  },
  {
   "cell_type": "code",
   "execution_count": 89,
   "id": "eb7d403d",
   "metadata": {},
   "outputs": [
    {
     "name": "stdout",
     "output_type": "stream",
     "text": [
      "1.85 ms ± 3.85 µs per loop (mean ± std. dev. of 7 runs, 100 loops each)\n"
     ]
    }
   ],
   "source": [
    "%timeit life(initial_state, 50,rules = \"basic\",periodic=False)"
   ]
  },
  {
   "cell_type": "markdown",
   "id": "08bab13c",
   "metadata": {},
   "source": [
    "## Initial Code Issues:\n",
    "The first iteration of the code i recieved from chatgpt was riddled with bugs and missing logic such as code for seperate colour in the \"2d colour\" extension.\n",
    "\n",
    "## Code Skeleton Development:\n",
    "I developed a skeleton to validate array inputs for specified extensions, extracting rows, columns, and optionally, depth. The primary focus was on the 2D code version.\n",
    "\n",
    "## Unified Function Approach:\n",
    "Despite separate functions from ChatGPT, I centralized all code into one function, reducing overhead from function calls but sacrificing readability. This was aimed at obtaining a lower duration from the timeit function, even as other standard code refinements were applied to enhance and rectify the code.\n",
    "\n",
    "## Optimization Steps:\n",
    "With working code validated by tests, several optimization approaches were pursued:\n",
    "\n",
    "- **Simplifying Conditionals:** Minimize computational complexity by simplifying conditionals and logical paths.\n",
    "- **Periodic Boundary Management:** Utilize modular arithmetic to manage periodic boundary conditions and decrease the use of conditionals.\n",
    "- **Utilizing Numpy:** Implement Numpy for array operations, leveraging its superior computational efficiency over Python loops.\n",
    "\n",
    "## Indexing Issue:\n",
    "A perplexing issue arose when faster array indexing surprisingly resulted in increased runtime. Despite the test cases running correctly, the cause remains undetermined and unresolved by GPT."
   ]
  }
 ],
 "metadata": {
  "kernelspec": {
   "display_name": "Python 3 (ipykernel)",
   "language": "python",
   "name": "python3"
  },
  "language_info": {
   "codemirror_mode": {
    "name": "ipython",
    "version": 3
   },
   "file_extension": ".py",
   "mimetype": "text/x-python",
   "name": "python",
   "nbconvert_exporter": "python",
   "pygments_lexer": "ipython3",
   "version": "3.11.5"
  }
 },
 "nbformat": 4,
 "nbformat_minor": 5
}
