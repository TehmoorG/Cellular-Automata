{
 "cells": [
  {
   "cell_type": "markdown",
   "id": "c78bf3cd",
   "metadata": {},
   "source": [
    "# Profiling and discussion"
   ]
  },
  {
   "cell_type": "markdown",
   "id": "0a4e2cd6",
   "metadata": {},
   "source": [
    "## Lorenz 96"
   ]
  },
  {
   "cell_type": "code",
   "execution_count": null,
   "id": "b7cc7f63",
   "metadata": {},
   "outputs": [],
   "source": [
    "# Add profiling code here\n"
   ]
  },
  {
   "cell_type": "markdown",
   "id": "648182ca",
   "metadata": {},
   "source": [
    "#### Add discussion here\n",
    "By interacting with chatgpt I realised that explcitly stating the data type allows numpy to optimise operations pertaining to the specific data"
   ]
  },
  {
   "cell_type": "markdown",
   "id": "f06efd25",
   "metadata": {},
   "source": [
    "## Game of Life"
   ]
  },
  {
   "cell_type": "code",
   "execution_count": null,
   "id": "665009ee",
   "metadata": {},
   "outputs": [],
   "source": [
    "# Add profiling code here\n"
   ]
  },
  {
   "cell_type": "markdown",
   "id": "08bab13c",
   "metadata": {},
   "source": [
    "#### Add discussion here\n",
    "\n",
    "Replace me."
   ]
  }
 ],
 "metadata": {
  "kernelspec": {
   "display_name": "Python 3 (ipykernel)",
   "language": "python",
   "name": "python3"
  },
  "language_info": {
   "codemirror_mode": {
    "name": "ipython",
    "version": 3
   },
   "file_extension": ".py",
   "mimetype": "text/x-python",
   "name": "python",
   "nbconvert_exporter": "python",
   "pygments_lexer": "ipython3",
   "version": "3.10.9"
  }
 },
 "nbformat": 4,
 "nbformat_minor": 5
}
