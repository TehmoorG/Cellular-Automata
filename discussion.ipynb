{
 "cells": [
  {
   "cell_type": "markdown",
   "id": "c78bf3cd",
   "metadata": {},
   "source": [
    "# Profiling and discussion"
   ]
  },
  {
   "cell_type": "markdown",
   "id": "91fd9f7c",
   "metadata": {},
   "source": [
    "## Lorenz 96"
   ]
  },
  {
   "cell_type": "markdown",
   "id": "d69887d2",
   "metadata": {},
   "source": [
    "#### First Version: Understanding Data Types and Profiling\n",
    "- **Initial Approach**: Started with a basic implementation, focusing on getting the logic correct.\n",
    "- **Key Learning**: Realized the importance of specifying data types for optimization in NumPy.\n",
    "- **Performance**: Profiling with `timeit` showed a runtime of 1.03 milliseconds for a certain array size.\n",
    "\n",
    "#### Second Version: Embracing Vectorization\n",
    "- **Optimization Attempt**: Replaced nested loops with NumPy's vectorization capabilities.\n",
    "- **Trade-off**: Noticed slower performance for smaller step sizes but gains in larger simulations.\n",
    "- **Performance**: Runtime improved to 228 microseconds for larger steps.\n",
    "\n",
    "#### Third Version: Memory Efficiency\n",
    "- **Consultation Insights**: ChatGPT suggested improvements in memory management.\n",
    "- **Change Implemented**: Avoided unnecessary array creation for each iteration.\n",
    "- **Result**: The performance did not improve as expected, indicating a need for further refinement.\n",
    "\n",
    "#### Fourth Version: Strategic Vectorization\n",
    "- **Algorithmic Adjustment**: Divided the computation into sections to optimize the vectorization process.\n",
    "- **Outcome**: Achieved significant speed improvements without compromising the model's integrity.\n",
    "- **Performance**: Solidified the gains, maintaining a runtime of 228 microseconds.\n",
    "\n",
    "### Post-Assignment Enhancements\n",
    "\n",
    "#### Continued Learning and Application\n",
    "- **Advanced Techniques**: After the assignment, I delved into more advanced NumPy features to improve performance further.\n",
    "- **Code Quality**: Refactored the code for better readability and maintainability, aligning with Python's best practices.\n",
    "\n",
    "#### Algorithmic Refinements\n",
    "- **Boundary Conditions**: Investigated more efficient methods for handling periodic boundary conditions.\n",
    "- **Pseudocode/Diagrams**: [Include pseudocode or diagrams of any new algorithmic approaches here.]\n",
    "\n",
    "#### Emphasizing Code Quality\n",
    "- **Refactoring**: Modularized the code for better clarity and reuse.\n",
    "- **Commenting**: Enhanced comments and documentation for future users and contributors.\n",
    "\n",
    "During the assigment I was not able to specify which array sizes I specifically tested for but now I will test the function at the time of assigment with my improved one post assignment for a small array and a larger one."
   ]
  },
  {
   "cell_type": "markdown",
   "id": "a74982ca",
   "metadata": {},
   "source": [
    "Old version of function:"
   ]
  },
  {
   "cell_type": "code",
   "execution_count": 1,
   "id": "b7cc7f63",
   "metadata": {},
   "outputs": [],
   "source": [
    "# Add profiling code here\n",
    "import numpy as np\n",
    "\n",
    "\n",
    "def lorenz96_old(initial_state, nsteps, constants=(1 / 101, 100, 8)):\n",
    "    \"\"\"\n",
    "    Perform iterations of the Lorenz 96 update.\n",
    "\n",
    "    Parameters\n",
    "    ----------\n",
    "    initial_state : array_like or list\n",
    "        Initial state of lattice in an array of floats.\n",
    "    nsteps : int\n",
    "        Number of steps of Lorenz 96 to perform.\n",
    "\n",
    "    Returns\n",
    "    -------\n",
    "    numpy.ndarray\n",
    "        Final state of lattice in an array of floats\n",
    "    \"\"\"\n",
    "\n",
    "    alpha, beta, gamma = constants\n",
    "    state = np.array(initial_state, dtype=float)\n",
    "    N = len(state)\n",
    "    new_state = np.empty_like(state)  # Create a new state array\n",
    "\n",
    "    for _ in range(nsteps):\n",
    "        new_state[0] = alpha * (\n",
    "            (beta * state[0]) + (state[N - 2] - state[1]) * state[N - 1] + gamma\n",
    "        )\n",
    "\n",
    "        # Compute the second element\n",
    "        new_state[1] = alpha * (\n",
    "            beta * state[1] + (state[0] - state[2]) * state[N - 1] + gamma\n",
    "        )\n",
    "        \n",
    "        # Compute the elements between 2 and N-2\n",
    "        new_state[2:N - 1] = alpha * (\n",
    "            beta * state[2:N - 1] +\n",
    "            (state[0:N - 3] - state[3:N]) * state[1:N - 2] +\n",
    "            gamma\n",
    "        )\n",
    "\n",
    "        # Compute the last element\n",
    "        new_state[N - 1] = alpha * (\n",
    "            beta * state[N - 1] + (state[N - 3] - state[0]) * state[N - 2] + gamma\n",
    "        )\n",
    "\n",
    "        # Update the state array\n",
    "        state[:] = new_state\n",
    "\n",
    "\n",
    "    return state"
   ]
  },
  {
   "cell_type": "code",
   "execution_count": 2,
   "id": "d9539f80",
   "metadata": {},
   "outputs": [],
   "source": [
    "initial_state = np.full(49, 8.0) # Create an array of 49 8.0s\n",
    "initial_state = np.insert(initial_state, 2, 9.0) # Insert a 9.0 at index 2\n",
    "nsteps = 50 # Number of steps to perform"
   ]
  },
  {
   "cell_type": "code",
   "execution_count": 3,
   "id": "4877d7cf",
   "metadata": {},
   "outputs": [
    {
     "name": "stdout",
     "output_type": "stream",
     "text": [
      "726 µs ± 52.4 µs per loop (mean ± std. dev. of 7 runs, 1,000 loops each)\n"
     ]
    }
   ],
   "source": [
    "from automata import lorenz96\n",
    "%timeit lorenz96(initial_state, nsteps)"
   ]
  },
  {
   "cell_type": "code",
   "execution_count": 4,
   "id": "bb437bec",
   "metadata": {},
   "outputs": [
    {
     "name": "stdout",
     "output_type": "stream",
     "text": [
      "233 µs ± 3.38 µs per loop (mean ± std. dev. of 7 runs, 1,000 loops each)\n"
     ]
    }
   ],
   "source": [
    "%timeit lorenz96_old(initial_state, nsteps)"
   ]
  },
  {
   "cell_type": "code",
   "execution_count": 5,
   "id": "d1bde762",
   "metadata": {},
   "outputs": [],
   "source": [
    "initial_state = np.full(9, 8.0) # Create an array of 49 8.0s\n",
    "initial_state = np.insert(initial_state, 2, 9.0) # Insert a 9.0 at index 2\n",
    "nsteps = 1 # Number of steps to perform"
   ]
  },
  {
   "cell_type": "code",
   "execution_count": 6,
   "id": "578b0c57",
   "metadata": {},
   "outputs": [
    {
     "name": "stdout",
     "output_type": "stream",
     "text": [
      "[7.92079208 8.         8.99009901 8.07920792 8.         8.\n",
      " 8.         8.         8.         8.        ]\n",
      "\n",
      "[8.         7.92079208 8.99009901 8.         8.07920792 8.\n",
      " 8.         8.         8.         8.        ]\n"
     ]
    }
   ],
   "source": [
    "print(lorenz96(initial_state, nsteps))\n",
    "print()\n",
    "print(lorenz96_old(initial_state, nsteps))"
   ]
  },
  {
   "cell_type": "code",
   "execution_count": 7,
   "id": "772a4c14",
   "metadata": {},
   "outputs": [
    {
     "name": "stdout",
     "output_type": "stream",
     "text": [
      "         105 function calls (93 primitive calls) in 0.000 seconds\n",
      "\n",
      "   Ordered by: internal time\n",
      "\n",
      "   ncalls  tottime  percall  cumtime  percall filename:lineno(function)\n",
      "      6/3    0.000    0.000    0.000    0.000 numeric.py:1147(roll)\n",
      "        3    0.000    0.000    0.000    0.000 {built-in method numpy.array}\n",
      "        1    0.000    0.000    0.000    0.000 automata.py:9(lorenz96)\n",
      "        2    0.000    0.000    0.000    0.000 {built-in method builtins.compile}\n",
      "      9/3    0.000    0.000    0.000    0.000 {built-in method numpy.core._multiarray_umath.implement_array_function}\n",
      "        3    0.000    0.000    0.000    0.000 numeric.py:1348(normalize_axis_tuple)\n",
      "      6/3    0.000    0.000    0.000    0.000 <__array_function__ internals>:177(roll)\n",
      "        2    0.000    0.000    0.000    0.000 interactiveshell.py:3490(run_code)\n",
      "        2    0.000    0.000    0.000    0.000 traitlets.py:689(__get__)\n",
      "        2    0.000    0.000    0.000    0.000 codeop.py:117(__call__)\n",
      "        2    0.000    0.000    0.000    0.000 contextlib.py:104(__init__)\n",
      "        3    0.000    0.000    0.000    0.000 <__array_function__ internals>:177(empty_like)\n",
      "        3    0.000    0.000    0.000    0.000 numeric.py:1398(<listcomp>)\n",
      "        4    0.000    0.000    0.000    0.000 {built-in method builtins.next}\n",
      "        2    0.000    0.000    0.000    0.000 contextlib.py:287(helper)\n",
      "        4    0.000    0.000    0.000    0.000 compilerop.py:180(extra_flags)\n",
      "        2    0.000    0.000    0.000    0.000 contextlib.py:132(__enter__)\n",
      "        2    0.000    0.000    0.000    0.000 contextlib.py:141(__exit__)\n",
      "        2    0.000    0.000    0.000    0.000 {built-in method builtins.exec}\n",
      "        3    0.000    0.000    0.000    0.000 {method 'reshape' of 'numpy.ndarray' objects}\n",
      "        3    0.000    0.000    0.000    0.000 {method 'ravel' of 'numpy.ndarray' objects}\n",
      "        1    0.000    0.000    0.000    0.000 455716162.py:1(<module>)\n",
      "        2    0.000    0.000    0.000    0.000 interactiveshell.py:3442(compare)\n",
      "        3    0.000    0.000    0.000    0.000 numeric.py:1234(<dictcomp>)\n",
      "        6    0.000    0.000    0.000    0.000 {built-in method numpy.asanyarray}\n",
      "        2    0.000    0.000    0.000    0.000 traitlets.py:651(get)\n",
      "        6    0.000    0.000    0.000    0.000 numeric.py:1143(_roll_dispatcher)\n",
      "        3    0.000    0.000    0.000    0.000 {built-in method numpy.core._multiarray_umath.normalize_axis_index}\n",
      "        4    0.000    0.000    0.000    0.000 {built-in method builtins.getattr}\n",
      "        3    0.000    0.000    0.000    0.000 {built-in method _operator.index}\n",
      "        2    0.000    0.000    0.000    0.000 interactiveshell.py:1231(user_global_ns)\n",
      "        3    0.000    0.000    0.000    0.000 multiarray.py:84(empty_like)\n",
      "        3    0.000    0.000    0.000    0.000 {method 'items' of 'dict' objects}\n",
      "        1    0.000    0.000    0.000    0.000 {method 'disable' of '_lsprof.Profiler' objects}\n",
      "\n",
      "\n"
     ]
    }
   ],
   "source": [
    "# Add profiling code here\n",
    "import cProfile\n",
    "\n",
    "\n",
    "pr = cProfile.Profile()\n",
    "pr.enable()\n",
    "lorenz96(initial_state, nsteps)\n",
    "pr.disable()\n",
    "\n",
    "pr.print_stats(sort='time')"
   ]
  },
  {
   "cell_type": "markdown",
   "id": "d967e20e",
   "metadata": {},
   "source": [
    "This was a test with a small array so the effects of vectorisation is not apparent. Lets try with a bigger array:"
   ]
  },
  {
   "cell_type": "code",
   "execution_count": 8,
   "id": "53cbdf18",
   "metadata": {},
   "outputs": [],
   "source": [
    "# Example of larger initial state and more steps\n",
    "initial_state = np.full(999, 8.0)  # A larger array\n",
    "initial_state = np.insert(initial_state, 2, 9.0)  # Insert a 9.0 at index 2\n",
    "nsteps = 50  # More steps"
   ]
  },
  {
   "cell_type": "code",
   "execution_count": 9,
   "id": "4c620afe",
   "metadata": {},
   "outputs": [
    {
     "name": "stdout",
     "output_type": "stream",
     "text": [
      "817 µs ± 2.18 µs per loop (mean ± std. dev. of 7 runs, 1,000 loops each)\n"
     ]
    }
   ],
   "source": [
    "%timeit lorenz96(initial_state, nsteps)"
   ]
  },
  {
   "cell_type": "code",
   "execution_count": 10,
   "id": "b77d757f",
   "metadata": {},
   "outputs": [
    {
     "name": "stdout",
     "output_type": "stream",
     "text": [
      "318 µs ± 3.41 µs per loop (mean ± std. dev. of 7 runs, 1,000 loops each)\n"
     ]
    }
   ],
   "source": [
    "%timeit lorenz96_old(initial_state, nsteps)"
   ]
  },
  {
   "cell_type": "markdown",
   "id": "f06efd25",
   "metadata": {},
   "source": [
    "## Game of Life"
   ]
  },
  {
   "cell_type": "markdown",
   "id": "27c53dfd",
   "metadata": {},
   "source": [
    "### Initial Implementation Challenges:\n",
    "The original Conway's Game of Life code provided by ChatGPT faced numerous issues, including bugs and missing logic for specific rules like the \"2d colour\" extension. The initial version lacked efficiency and robustness, necessitating a thorough revision and enhancement process.\n",
    "\n",
    "### Structural Refinement and Validation:\n",
    "To improve reliability and functionality, a robust skeleton was developed. This included validating array inputs and correctly handling different game dimensions and rules. The primary focus was refining the 2D version of the game, setting a strong foundation for further extensions and optimizations.\n",
    "\n",
    "### Strategic Consolidation:\n",
    "While the initial guidance from ChatGPT suggested separate functions for different rules and dimensions, a unified approach was adopted. This consolidation aimed to reduce the overhead from multiple function calls, focusing on optimizing execution time as measured by the `timeit` function. While this approach initially decreased readability, it was essential for performance gains.\n",
    "\n",
    "### Advanced Optimizations (After assignment):\n",
    "After establishing a working codebase, several advanced optimization techniques were applied to enhance performance further:\n",
    "\n",
    "- **Simplifying Conditionals:** The code was refactored to streamline conditionals, reducing computational overhead and increasing clarity.\n",
    "- **Efficient Boundary Management:** Periodic boundary conditions were handled more effectively using modular arithmetic, cutting down on unnecessary checks and conditions.\n",
    "- **Leveraging NumPy:** The adoption of NumPy for array operations significantly boosted performance, replacing slower Python loops with efficient, vectorized operations.\n",
    "\n",
    "### Modular and Readable Code:\n",
    "Post-assignment enhancements focused on not just performance but also maintainability and readability. The code was refactored into modular functions, each handling a specific aspect of the game logic. This made the code easier to understand, maintain, and extend, without sacrificing the performance gains achieved earlier.\n",
    "\n",
    "### Algorithmic Refinements and Testing:\n",
    "Further algorithmic refinements were made to handle edge cases and optimize for various scenarios. The code was extensively tested to ensure accuracy and performance across a wide range of conditions and parameters. Special attention was given to array sizes, boundary conditions, and different rule sets to validate the implementation comprehensively.\n"
   ]
  },
  {
   "cell_type": "code",
   "execution_count": 11,
   "id": "34853ed2",
   "metadata": {},
   "outputs": [],
   "source": [
    "import numpy as np\n",
    "\n",
    "def life_old(initial_state, nsteps, rules=\"basic\", periodic=False):\n",
    "    \"\"\"\n",
    "    Perform iterations of Conway’s Game of Life.\n",
    "    Parameters\n",
    "    ----------\n",
    "    initial_state : array_like or list of lists\n",
    "        Initial 2d state of grid in an array of ints.\n",
    "    nsteps : int\n",
    "        Number of steps of Life to perform.\n",
    "    rules : str\n",
    "        Choose a set of rules from \"basic\", \"2colour\" or \"3d\".\n",
    "    periodic : bool\n",
    "        If True, use periodic boundary conditions.\n",
    "    Returns\n",
    "    -------\n",
    "    numpy.ndarray\n",
    "         Final state of grid in array of ints.\n",
    "    \"\"\"\n",
    "\n",
    "    # write your code here to replace return statement\n",
    "    state = np.array(initial_state, dtype=int)\n",
    "\n",
    "    # Determine if we're working in 2D or 3D\n",
    "    if rules == \"3d\":\n",
    "        if state.ndim != 3:\n",
    "            raise ValueError(\"Invalid grid dimension!\")\n",
    "        rows, cols, depth = state.shape\n",
    "        for _ in range(nsteps):\n",
    "            next_state = state.copy()\n",
    "\n",
    "            for i in range(rows):\n",
    "                for j in range(cols):\n",
    "                    for k in range(depth):\n",
    "                        total = 0  # Count the neighbors\n",
    "\n",
    "                        for x in [-1, 0, 1]:\n",
    "                            for y in [-1, 0, 1]:\n",
    "                                for z in [-1, 0, 1]:\n",
    "                                    if x == 0 and y == 0 and z == 0:\n",
    "                                        continue  # Skip the current cell\n",
    "                                    ni, nj, nk = i + x, j + y, k + z\n",
    "                                    if periodic:  # Handle periodic boundary conditions\n",
    "                                        ni %= rows\n",
    "                                        nj %= cols\n",
    "                                        nk %= depth\n",
    "                                    elif (\n",
    "                                        ni < 0\n",
    "                                        or ni >= rows\n",
    "                                        or nj < 0\n",
    "                                        or nj >= cols\n",
    "                                        or nk < 0\n",
    "                                        or nk >= depth\n",
    "                                    ):\n",
    "                                        continue  # Skip out of bounds\n",
    "\n",
    "                                    total += state[ni, nj, nk]\n",
    "\n",
    "                            if state[i, j, k] != 0:  # If cell is alive\n",
    "                                if total < 5 or total > 6:  # Die\n",
    "                                    next_state[i, j, k] = 0\n",
    "                            else:  # Dead cell\n",
    "                                if total == 4:\n",
    "                                    next_state[i, j, k] = 1  # Birth\n",
    "\n",
    "            state = next_state\n",
    "        return state\n",
    "    else:\n",
    "        if state.ndim != 2:\n",
    "            raise ValueError(\"Invalid grid dimension!\")\n",
    "        rows, cols = state.shape\n",
    "        for _ in range(nsteps):\n",
    "            next_state = state.copy()\n",
    "\n",
    "            for i in range(rows):\n",
    "                for j in range(cols):\n",
    "                    total = 0\n",
    "                    blue_neighbours = 0\n",
    "                    red_neighbours = 0\n",
    "                    for x in [-1, 0, 1]:\n",
    "                        for y in [-1, 0, 1]:\n",
    "                            if x == 0 and y == 0:\n",
    "                                continue\n",
    "                            ni, nj = i + x, j + y\n",
    "                            if periodic:\n",
    "                                ni %= rows\n",
    "                                nj %= cols\n",
    "                            elif ni < 0 or ni >= rows or nj < 0 or nj >= cols:\n",
    "                                continue\n",
    "\n",
    "                            if state[ni][nj] > 0:\n",
    "                                total += 1\n",
    "                                if state[ni][nj] == 1:\n",
    "                                    blue_neighbours += 1\n",
    "                                else:\n",
    "                                    red_neighbours += 1\n",
    "\n",
    "                    if rules == \"basic\":\n",
    "                        if state[i][j] == 1:  # If cell is alive\n",
    "                            if total < 2 or total > 3:  # Die\n",
    "                                next_state[i][j] = 0\n",
    "                        else:  # Dead cell\n",
    "                            if total == 3:\n",
    "                                next_state[i][j] = 1\n",
    "\n",
    "                    elif rules == \"2colour\":\n",
    "                        if state[i][j] == 1 or state[i][j] == 2:  # If cell is alive\n",
    "                            if total < 2 or total > 3:  # Die\n",
    "                                next_state[i][j] = 0\n",
    "                        else:  # Dead cell\n",
    "                            if total == 3:\n",
    "                                if blue_neighbours > red_neighbours:\n",
    "                                    next_state[i][j] = 1\n",
    "                                else:\n",
    "                                    next_state[i][j] = 2\n",
    "\n",
    "            state = next_state\n",
    "\n",
    "        return state\n",
    "\n",
    "\n",
    "initial_state = (\n",
    "    [0, 0, 0, 0, 0],\n",
    "    [0, 0, 0, 0, 0],\n",
    "    [0, 1, 1, 1, 0],\n",
    "    [0, 0, 0, 0, 0],\n",
    "    [0, 0, 0, 0, 1],\n",
    ")"
   ]
  },
  {
   "cell_type": "code",
   "execution_count": 12,
   "id": "f84d0d5c",
   "metadata": {},
   "outputs": [
    {
     "name": "stdout",
     "output_type": "stream",
     "text": [
      "276 ms ± 7.26 ms per loop (mean ± std. dev. of 7 runs, 1 loop each)\n"
     ]
    }
   ],
   "source": [
    "from automata import life\n",
    "%timeit life(initial_state, 10000, rules=\"basic\", periodic=False)"
   ]
  },
  {
   "cell_type": "code",
   "execution_count": 13,
   "id": "95b8bdb2",
   "metadata": {},
   "outputs": [],
   "source": [
    "initial_state = np.array([[0, 0, 0, 0], [0, 1, 0, 0], [0, 1, 2, 0], [0, 1, 0, 0]])"
   ]
  },
  {
   "cell_type": "code",
   "execution_count": 14,
   "id": "89f1cc9c",
   "metadata": {},
   "outputs": [
    {
     "name": "stdout",
     "output_type": "stream",
     "text": [
      "[[0 0 0 0]\n",
      " [0 1 0 0]\n",
      " [1 1 2 0]\n",
      " [0 1 0 0]]\n",
      "\n",
      "[[0 0 0 0]\n",
      " [0 1 1 0]\n",
      " [1 1 2 0]\n",
      " [0 1 1 0]]\n"
     ]
    }
   ],
   "source": [
    "# Sanity check to see if the old and new functions give the same result\n",
    "print(life(initial_state, 1, rules=\"2colour\", periodic=False))\n",
    "print()\n",
    "print(life_old(initial_state, 1, rules=\"2colour\", periodic=False))"
   ]
  }
 ],
 "metadata": {
  "kernelspec": {
   "display_name": "Python 3 (ipykernel)",
   "language": "python",
   "name": "python3"
  },
  "language_info": {
   "codemirror_mode": {
    "name": "ipython",
    "version": 3
   },
   "file_extension": ".py",
   "mimetype": "text/x-python",
   "name": "python",
   "nbconvert_exporter": "python",
   "pygments_lexer": "ipython3",
   "version": "3.11.5"
  }
 },
 "nbformat": 4,
 "nbformat_minor": 5
}
