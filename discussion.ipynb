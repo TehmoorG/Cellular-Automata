{
 "cells": [
  {
   "cell_type": "markdown",
   "id": "c78bf3cd",
   "metadata": {},
   "source": [
    "# Profiling and discussion"
   ]
  },
  {
   "cell_type": "markdown",
   "id": "0a4e2cd6",
   "metadata": {},
   "source": [
    "## Lorenz 96"
   ]
  },
  {
   "cell_type": "code",
   "execution_count": 35,
   "id": "b7cc7f63",
   "metadata": {},
   "outputs": [],
   "source": [
    "# Add profiling code here\n",
    "import numpy as np\n",
    "\n",
    "def lorenz96(initial_state, nsteps, constants=(1/101, 100, 8)):\n",
    "    \"\"\"\n",
    "    Perform iterations of the Lorenz 96 update.\n",
    "\n",
    "    Parameters\n",
    "    ----------\n",
    "    initial_state : array_like or list\n",
    "        Initial state of lattice in an array of floats.\n",
    "    nsteps : int\n",
    "        Number of steps of Lorenz 96 to perform.\n",
    "\n",
    "    Returns\n",
    "    -------\n",
    "    numpy.ndarray\n",
    "        Final state of lattice in an array of floats\n",
    "    \"\"\"\n",
    "\n",
    "    alpha, beta, gamma = constants\n",
    "    state = np.array(initial_state, dtype=float)\n",
    "    N = len(state)\n",
    "    new_state = np.empty_like(state)  # Create a new state array\n",
    "\n",
    "    for _ in range(nsteps):\n",
    "        # Compute the first two elements\n",
    "        new_state[0] = alpha * (beta * state[0] + (state[N - 2] - state[1]) * state[N - 1] + gamma)\n",
    "        new_state[1] = alpha * (beta * state[1] + (state[N - 1] - state[0]) * state[0] + gamma)\n",
    "\n",
    "        # Compute the elements between 2 and N-2\n",
    "        new_state[2:N - 2] = alpha * (beta * state[2:N - 2] + (state[0:N - 4] - state[3:N - 1]) * state[1:N - 3] + gamma)   \n",
    "\n",
    "        # Compute the last element\n",
    "        new_state[N - 1] = alpha * (beta * state[N - 1] + (state[N - 3] - state[0]) * state[N - 2] + gamma)\n",
    "\n",
    "        # Update the state array\n",
    "        state[:] = new_state\n",
    "\n",
    "    return state\n",
    "\n",
    "\n",
    "initial_state = np.full(49, 8.0)\n",
    "initial_state = np.insert(initial_state,2,9.0)\n",
    "nsteps = 50"
   ]
  },
  {
   "cell_type": "code",
   "execution_count": 36,
   "id": "84a4f5b0",
   "metadata": {},
   "outputs": [
    {
     "name": "stdout",
     "output_type": "stream",
     "text": [
      "1.03 ms ± 64.7 µs per loop (mean ± std. dev. of 7 runs, 1,000 loops each)\n"
     ]
    }
   ],
   "source": [
    "%timeit lorenz96(initial_state, nsteps)"
   ]
  },
  {
   "cell_type": "markdown",
   "id": "648182ca",
   "metadata": {},
   "source": [
    "#### Add discussion here\n",
    "\n",
    "## First Version\n",
    "By interacting with chatgpt I realised that explcitly stating the data type allows numpy to optimise operations pertaining to the specific data. After this i used the timeit to profile my code and got a speed of 166 microseconds.\n",
    "## Second Version\n",
    "Intead of using nested loops i decided to use numpys abilties to \"vectorize\" the function in order to optimise.After vecotrising i found that the code ran slower for smaller steps(20) but faster than my first version for larger steps(50)\n",
    "## Third Version\n",
    "After consulting chatgpt it seems the action of change a new array is inneficient due to memory allocation and deallocation. This didnt seem to make the program as efficient.\n",
    "## Fourth Version\n",
    "Now that ive applied numpys capabilities where i can to optimise. I decided to try an optimise the actual algorithm. Instead of using one algorithm for every part of the array the calculation was split to the first, second, last and all the arrays in between. This allowed a much faster vecotrisation process.\n",
    "\n",
    "Compared to my original code I have managed to optimise my code to go from 1.03 milliseconds to 228 microseconds for the same array.. I have changed the algorithm and used vectorisation where i could to make it more efficient."
   ]
  },
  {
   "cell_type": "markdown",
   "id": "f06efd25",
   "metadata": {},
   "source": [
    "## Game of Life"
   ]
  },
  {
   "cell_type": "code",
   "execution_count": null,
   "id": "665009ee",
   "metadata": {},
   "outputs": [],
   "source": [
    "# Add profiling code here\n"
   ]
  },
  {
   "cell_type": "markdown",
   "id": "08bab13c",
   "metadata": {},
   "source": [
    "#### Add discussion here\n",
    "\n",
    "Replace me."
   ]
  }
 ],
 "metadata": {
  "kernelspec": {
   "display_name": "Python 3 (ipykernel)",
   "language": "python",
   "name": "python3"
  },
  "language_info": {
   "codemirror_mode": {
    "name": "ipython",
    "version": 3
   },
   "file_extension": ".py",
   "mimetype": "text/x-python",
   "name": "python",
   "nbconvert_exporter": "python",
   "pygments_lexer": "ipython3",
   "version": "3.11.5"
  }
 },
 "nbformat": 4,
 "nbformat_minor": 5
}
